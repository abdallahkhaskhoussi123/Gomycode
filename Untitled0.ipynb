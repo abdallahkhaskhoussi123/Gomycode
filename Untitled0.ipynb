{
  "nbformat": 4,
  "nbformat_minor": 0,
  "metadata": {
    "colab": {
      "provenance": [],
      "authorship_tag": "ABX9TyNHhEqWf7n60jOexf2xbg4E",
      "include_colab_link": true
    },
    "kernelspec": {
      "name": "python3",
      "display_name": "Python 3"
    },
    "language_info": {
      "name": "python"
    }
  },
  "cells": [
    {
      "cell_type": "markdown",
      "metadata": {
        "id": "view-in-github",
        "colab_type": "text"
      },
      "source": [
        "<a href=\"https://colab.research.google.com/github/abdallahkhaskhoussi123/Gomycode/blob/main/Untitled0.ipynb\" target=\"_parent\"><img src=\"https://colab.research.google.com/assets/colab-badge.svg\" alt=\"Open In Colab\"/></a>"
      ]
    },
    {
      "cell_type": "code",
      "execution_count": null,
      "metadata": {
        "colab": {
          "base_uri": "https://localhost:8080/"
        },
        "id": "kTd_HWHusQtL",
        "outputId": "a4e98bac-2e19-4884-e7d1-71f4bc504850"
      },
      "outputs": [
        {
          "output_type": "stream",
          "name": "stdout",
          "text": [
            "Enter your guess: 50\n",
            "Your guess is too high. Guess again.\n",
            "Enter your guess: 20\n",
            "Your guess is too high. Guess again.\n"
          ]
        }
      ],
      "source": [
        "import random\n",
        "random_number = random.randint(1,100)\n",
        "guess = int(input(\"Enter your guess: \"))\n",
        "while guess != random_number:\n",
        "    if guess > random_number:\n",
        "        print(\"Your guess is too high. Guess again.\")\n",
        "    else:\n",
        "        print(\"Your guess is too low. Guess again.\")\n",
        "    guess = int(input(\"Enter your guess: \"))\n",
        "print(\"Congratulations! You guessed the number correctly!\")"
      ]
    }
  ]
}