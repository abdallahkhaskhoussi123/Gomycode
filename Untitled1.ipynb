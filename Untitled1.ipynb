{
  "nbformat": 4,
  "nbformat_minor": 0,
  "metadata": {
    "colab": {
      "provenance": [],
      "authorship_tag": "ABX9TyMh6hViDa+9CVWE/rTQhB3J",
      "include_colab_link": true
    },
    "kernelspec": {
      "name": "python3",
      "display_name": "Python 3"
    },
    "language_info": {
      "name": "python"
    }
  },
  "cells": [
    {
      "cell_type": "markdown",
      "metadata": {
        "id": "view-in-github",
        "colab_type": "text"
      },
      "source": [
        "<a href=\"https://colab.research.google.com/github/abdallahkhaskhoussi123/Gomycode/blob/main/Untitled1.ipynb\" target=\"_parent\"><img src=\"https://colab.research.google.com/assets/colab-badge.svg\" alt=\"Open In Colab\"/></a>"
      ]
    },
    {
      "cell_type": "code",
      "source": [
        "Sample_list = [2, 3, 6]\n",
        "k = 1\n",
        "for result in Sample_list:\n",
        "    k = result * k\n",
        "\n",
        "print(k)"
      ],
      "metadata": {
        "id": "x73iJRMdFQaE",
        "colab": {
          "base_uri": "https://localhost:8080/"
        },
        "outputId": "b83e1fe5-163b-4d25-a826-4947db2ce6c1"
      },
      "execution_count": null,
      "outputs": [
        {
          "output_type": "stream",
          "name": "stdout",
          "text": [
            "36\n"
          ]
        }
      ]
    },
    {
      "cell_type": "code",
      "execution_count": null,
      "metadata": {
        "colab": {
          "base_uri": "https://localhost:8080/"
        },
        "id": "ASlMVO5i4dpv",
        "outputId": "1f19678b-face-4890-c3e5-399982e860e4"
      },
      "outputs": [
        {
          "output_type": "stream",
          "name": "stdout",
          "text": [
            "[(1, 2), (2, 1), (2, 3), (2, 5), (4, 4)]\n"
          ]
        }
      ],
      "source": [
        "Sample_List = [(2, 5), (1, 2), (4, 4), (2, 3), (2, 1)]\n",
        "Sample_List.sort()\n",
        "print(Sample_List)"
      ]
    },
    {
      "cell_type": "code",
      "source": [
        "d1 = {'a': 100, 'b': 200, 'c': 300}\n",
        "d2 = {'a': 300, 'b': 200, 'd': 400}\n",
        "\n",
        "for key in d1:\n",
        "    if key in d2:\n",
        "        d1[key] += d2[key]\n",
        "for key in d2:\n",
        "    if key not in d1:\n",
        "        d1[key] = d2[key]\n",
        "\n",
        "print(d1)"
      ],
      "metadata": {
        "colab": {
          "base_uri": "https://localhost:8080/"
        },
        "id": "rwmM_lvoP03S",
        "outputId": "27bdd395-f9a2-42a2-bcd9-a1f7c2c047ca"
      },
      "execution_count": null,
      "outputs": [
        {
          "output_type": "stream",
          "name": "stdout",
          "text": [
            "{'a': 400, 'b': 400, 'c': 300, 'd': 400}\n"
          ]
        }
      ]
    },
    {
      "cell_type": "code",
      "source": [],
      "metadata": {
        "id": "-9o-9SQo5N_5"
      },
      "execution_count": null,
      "outputs": []
    },
    {
      "cell_type": "code",
      "source": [
        "list= [('item1', '12.20'), ('item2', '15.10'), ('item3', '24.5')]\n",
        "list.sort()\n",
        "print (list)"
      ],
      "metadata": {
        "colab": {
          "base_uri": "https://localhost:8080/"
        },
        "id": "Wcsa9IHA_SRV",
        "outputId": "ada16ef5-9715-4445-d9a5-8d237ec60877"
      },
      "execution_count": null,
      "outputs": [
        {
          "output_type": "stream",
          "name": "stdout",
          "text": [
            "[('item1', '12.20'), ('item2', '15.10'), ('item3', '24.5')]\n"
          ]
        }
      ]
    },
    {
      "cell_type": "code",
      "source": [
        "my_set = {0, 1, 2, 3, 4}\n",
        "print (my_set)\n",
        "for item in my_set:\n",
        "    print(item)\n",
        "my_set.add(5)\n",
        "my_set.add(6)\n",
        "print (my_set)\n",
        "my_set.remove(2)\n",
        "my_set.remove(3)\n",
        "print (my_set)"
      ],
      "metadata": {
        "colab": {
          "base_uri": "https://localhost:8080/"
        },
        "id": "ig5qCRu7hm5s",
        "outputId": "f1cab1ae-0080-40a0-c679-df33e5dedeb7"
      },
      "execution_count": 5,
      "outputs": [
        {
          "output_type": "stream",
          "name": "stdout",
          "text": [
            "{0, 1, 2, 3, 4}\n",
            "0\n",
            "1\n",
            "2\n",
            "3\n",
            "4\n",
            "{0, 1, 2, 3, 4, 5, 6}\n",
            "{0, 1, 4, 5, 6}\n"
          ]
        }
      ]
    }
  ]
}