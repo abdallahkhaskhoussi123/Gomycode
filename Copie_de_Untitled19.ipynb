{
  "nbformat": 4,
  "nbformat_minor": 0,
  "metadata": {
    "colab": {
      "provenance": [],
      "authorship_tag": "ABX9TyOxLU6n9i3Zmwtgo5zeplUj",
      "include_colab_link": true
    },
    "kernelspec": {
      "name": "python3",
      "display_name": "Python 3"
    },
    "language_info": {
      "name": "python"
    }
  },
  "cells": [
    {
      "cell_type": "markdown",
      "metadata": {
        "id": "view-in-github",
        "colab_type": "text"
      },
      "source": [
        "<a href=\"https://colab.research.google.com/github/abdallahkhaskhoussi123/Gomycode/blob/main/Copie_de_Untitled19.ipynb\" target=\"_parent\"><img src=\"https://colab.research.google.com/assets/colab-badge.svg\" alt=\"Open In Colab\"/></a>"
      ]
    },
    {
      "cell_type": "code",
      "execution_count": 1,
      "metadata": {
        "id": "mh-x6RQyEZY2",
        "colab": {
          "base_uri": "https://localhost:8080/",
          "height": 130
        },
        "outputId": "89fbe15c-3a77-4f75-e503-118ca7a329cf"
      },
      "outputs": [
        {
          "output_type": "error",
          "ename": "SyntaxError",
          "evalue": "ignored",
          "traceback": [
            "\u001b[0;36m  File \u001b[0;32m\"<ipython-input-1-e4661e027fee>\"\u001b[0;36m, line \u001b[0;32m10\u001b[0m\n\u001b[0;31m    url = (https://en.wikipedia.org/wiki/Python_(programming_language) + word)\u001b[0m\n\u001b[0m                ^\u001b[0m\n\u001b[0;31mSyntaxError\u001b[0m\u001b[0;31m:\u001b[0m invalid syntax\n"
          ]
        }
      ],
      "source": [
        "import requests\n",
        "import string\n",
        "from bs4 import BeautifulSoup\n",
        "\n",
        "enter_input = input(\"search:\")\n",
        "u_i = string.capwords(enter_input)\n",
        "lists = u_i.split\n",
        "word = \"_\".join(lists)\n",
        "\n",
        "url = (https://en.wikipedia.org/wiki/Python_(programming_language) + word)"
      ]
    }
  ]
}