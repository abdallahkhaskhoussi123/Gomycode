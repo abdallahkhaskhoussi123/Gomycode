{
  "nbformat": 4,
  "nbformat_minor": 0,
  "metadata": {
    "colab": {
      "provenance": [],
      "authorship_tag": "ABX9TyOI1dMoOpQ+MQIYY9LoubmT",
      "include_colab_link": true
    },
    "kernelspec": {
      "name": "python3",
      "display_name": "Python 3"
    },
    "language_info": {
      "name": "python"
    }
  },
  "cells": [
    {
      "cell_type": "markdown",
      "metadata": {
        "id": "view-in-github",
        "colab_type": "text"
      },
      "source": [
        "<a href=\"https://colab.research.google.com/github/abdallahkhaskhoussi123/Gomycode/blob/main/a%20calculator.ipynb\" target=\"_parent\"><img src=\"https://colab.research.google.com/assets/colab-badge.svg\" alt=\"Open In Colab\"/></a>"
      ]
    },
    {
      "cell_type": "code",
      "execution_count": 8,
      "metadata": {
        "id": "BijvCkJ_Mpj0",
        "outputId": "6118b592-bdb9-40e3-e420-0f6d563e075e",
        "colab": {
          "base_uri": "https://localhost:8080/"
        }
      },
      "outputs": [
        {
          "output_type": "stream",
          "name": "stdout",
          "text": [
            "Enter the first number: 50\n",
            "Enter the second number: 50\n",
            "Enter the operator (+, -, *, /): *\n",
            "The result is: 2500.0\n"
          ]
        }
      ],
      "source": [
        "def calculator(num1, num2, operator):\n",
        "    try:\n",
        "        if operator == '+':\n",
        "            return num1 + num2\n",
        "        elif operator == '-':\n",
        "            return num1 - num2\n",
        "        elif operator == '*':\n",
        "            return num1 * num2\n",
        "        elif operator == '/':\n",
        "            return num1 / num2\n",
        "        else:\n",
        "            return \"Invalid operator.\"\n",
        "    except ZeroDivisionError:\n",
        "        return \"Error: Cannot divide by zero.\"\n",
        "\n",
        "num1 = float(input(\"Enter the first number: \"))\n",
        "num2 = float(input(\"Enter the second number: \"))\n",
        "operator = input(\"Enter the operator (+, -, *, /): \")\n",
        "\n",
        "result = calculator(num1, num2, operator)\n",
        "print(\"The result is:\", result)\n"
      ]
    }
  ]
}